{
  "nbformat": 4,
  "nbformat_minor": 0,
  "metadata": {
    "colab": {
      "provenance": [],
      "authorship_tag": "ABX9TyOH/5jsO/pAmrzDW3hxrh9T",
      "include_colab_link": true
    },
    "kernelspec": {
      "name": "python3",
      "display_name": "Python 3"
    },
    "language_info": {
      "name": "python"
    }
  },
  "cells": [
    {
      "cell_type": "markdown",
      "metadata": {
        "id": "view-in-github",
        "colab_type": "text"
      },
      "source": [
        "<a href=\"https://colab.research.google.com/github/HattaAlvi/LearnPython/blob/main/matrix_algebra.ipynb\" target=\"_parent\"><img src=\"https://colab.research.google.com/assets/colab-badge.svg\" alt=\"Open In Colab\"/></a>"
      ]
    },
    {
      "cell_type": "markdown",
      "source": [],
      "metadata": {
        "id": "x50Afu4Car6W"
      }
    },
    {
      "cell_type": "code",
      "execution_count": null,
      "metadata": {
        "colab": {
          "base_uri": "https://localhost:8080/"
        },
        "id": "COs44tWLaEPz",
        "outputId": "d81b7799-a568-4fe3-b88a-f754cab52441"
      },
      "outputs": [
        {
          "output_type": "stream",
          "name": "stdout",
          "text": [
            "Matrix A:\n",
            "[[1 2]\n",
            " [3 4]]\n",
            "\n",
            "Matrix B:\n",
            "[[5 6]\n",
            " [7 8]]\n",
            "\n",
            "Matrix Addition:\n",
            "[[ 6  8]\n",
            " [10 12]]\n",
            "\n",
            "Matrix Subtraction:\n",
            "[[-4 -4]\n",
            " [-4 -4]]\n",
            "\n",
            "Matrix Multiplication:\n",
            "[[19 22]\n",
            " [43 50]]\n",
            "\n",
            "Transpose of Matrix A:\n",
            "[[1 3]\n",
            " [2 4]]\n",
            "\n",
            "Determinant of Matrix A:\n",
            "-2.0000000000000004\n",
            "\n",
            "Inverse of Matrix A:\n",
            "[[-2.   1. ]\n",
            " [ 1.5 -0.5]]\n"
          ]
        }
      ],
      "source": [
        "import numpy as np\n",
        "\n",
        "# Define matrices\n",
        "A = np.array([[1, 2], [3, 4]])\n",
        "B = np.array([[5, 6], [7, 8]])\n",
        "\n",
        "# Matrix addition\n",
        "addition_result = A + B\n",
        "\n",
        "# Matrix subtraction\n",
        "subtraction_result = A - B\n",
        "\n",
        "# Matrix multiplication\n",
        "multiplication_result = np.dot(A, B)\n",
        "\n",
        "# Transpose of a matrix\n",
        "transpose_result = np.transpose(A)\n",
        "\n",
        "# Determinant of a matrix\n",
        "determinant_result = np.linalg.det(A)\n",
        "\n",
        "# Inverse of a matrix\n",
        "inverse_result = np.linalg.inv(A)\n",
        "\n",
        "print(\"Matrix A:\")\n",
        "print(A)\n",
        "print(\"\\nMatrix B:\")\n",
        "print(B)\n",
        "print(\"\\nMatrix Addition:\")\n",
        "print(addition_result)\n",
        "print(\"\\nMatrix Subtraction:\")\n",
        "print(subtraction_result)\n",
        "print(\"\\nMatrix Multiplication:\")\n",
        "print(multiplication_result)\n",
        "print(\"\\nTranspose of Matrix A:\")\n",
        "print(transpose_result)\n",
        "print(\"\\nDeterminant of Matrix A:\")\n",
        "print(determinant_result)\n",
        "print(\"\\nInverse of Matrix A:\")\n",
        "print(inverse_result)"
      ]
    },
    {
      "cell_type": "code",
      "source": [],
      "metadata": {
        "id": "eNdyzxKmaV2C"
      },
      "execution_count": null,
      "outputs": []
    }
  ]
}