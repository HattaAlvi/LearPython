{
  "nbformat": 4,
  "nbformat_minor": 0,
  "metadata": {
    "colab": {
      "provenance": [],
      "authorship_tag": "ABX9TyN34tAhyO6c0usV4PcUu+Dj",
      "include_colab_link": true
    },
    "kernelspec": {
      "name": "python3",
      "display_name": "Python 3"
    },
    "language_info": {
      "name": "python"
    }
  },
  "cells": [
    {
      "cell_type": "markdown",
      "metadata": {
        "id": "view-in-github",
        "colab_type": "text"
      },
      "source": [
        "<a href=\"https://colab.research.google.com/github/HattaAlvi/LearnPython/blob/main/matrix_algebra.ipynb\" target=\"_parent\"><img src=\"https://colab.research.google.com/assets/colab-badge.svg\" alt=\"Open In Colab\"/></a>"
      ]
    },
    {
      "cell_type": "markdown",
      "source": [],
      "metadata": {
        "id": "x50Afu4Car6W"
      }
    },
    {
      "cell_type": "code",
      "execution_count": 1,
      "metadata": {
        "colab": {
          "base_uri": "https://localhost:8080/"
        },
        "id": "COs44tWLaEPz",
        "outputId": "be44958d-741a-4c95-faba-c685c47898a2"
      },
      "outputs": [
        {
          "output_type": "stream",
          "name": "stdout",
          "text": [
            "Matrix A:\n",
            "[[1 2 6]\n",
            " [3 4 7]\n",
            " [2 3 6]]\n",
            "\n",
            "Matrix B:\n",
            "[[5 6 8]\n",
            " [7 8 0]\n",
            " [1 4 5]]\n",
            "\n",
            "Matrix Addition:\n",
            "[[ 6  8 14]\n",
            " [10 12  7]\n",
            " [ 3  7 11]]\n",
            "\n",
            "Matrix Subtraction:\n",
            "[[-4 -4 -2]\n",
            " [-4 -4  7]\n",
            " [ 1 -1  1]]\n",
            "\n",
            "Matrix Multiplication:\n",
            "[[25 46 38]\n",
            " [50 78 59]\n",
            " [37 60 46]]\n",
            "\n",
            "Transpose of Matrix A:\n",
            "[[1 3 2]\n",
            " [2 4 3]\n",
            " [6 7 6]]\n",
            "\n",
            "Determinant of Matrix A:\n",
            "1.0000000000000002\n",
            "\n",
            "Inverse of Matrix A:\n",
            "[[  3.   6. -10.]\n",
            " [ -4.  -6.  11.]\n",
            " [  1.   1.  -2.]]\n"
          ]
        }
      ],
      "source": [
        "import numpy as np\n",
        "\n",
        "# Define matrices\n",
        "A = np.array([[1, 2, 6], [3, 4, 7], [2, 3, 6]])\n",
        "B = np.array([[5, 6, 8], [7, 8, 0], [1, 4, 5]])\n",
        "\n",
        "# Matrix addition\n",
        "addition_result = A + B\n",
        "\n",
        "# Matrix subtraction\n",
        "subtraction_result = A - B\n",
        "\n",
        "# Matrix multiplication\n",
        "multiplication_result = np.dot(A, B)\n",
        "\n",
        "# Transpose of a matrix\n",
        "transpose_result = np.transpose(A)\n",
        "\n",
        "# Determinant of a matrix\n",
        "determinant_result = np.linalg.det(A)\n",
        "\n",
        "# Inverse of a matrix\n",
        "inverse_result = np.linalg.inv(A)\n",
        "\n",
        "print(\"Matrix A:\")\n",
        "print(A)\n",
        "print(\"\\nMatrix B:\")\n",
        "print(B)\n",
        "print(\"\\nMatrix Addition:\")\n",
        "print(addition_result)\n",
        "print(\"\\nMatrix Subtraction:\")\n",
        "print(subtraction_result)\n",
        "print(\"\\nMatrix Multiplication:\")\n",
        "print(multiplication_result)\n",
        "print(\"\\nTranspose of Matrix A:\")\n",
        "print(transpose_result)\n",
        "print(\"\\nDeterminant of Matrix A:\")\n",
        "print(determinant_result)\n",
        "print(\"\\nInverse of Matrix A:\")\n",
        "print(inverse_result)"
      ]
    },
    {
      "cell_type": "code",
      "source": [],
      "metadata": {
        "id": "eNdyzxKmaV2C"
      },
      "execution_count": null,
      "outputs": []
    }
  ]
}