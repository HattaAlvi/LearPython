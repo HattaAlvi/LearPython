{
  "nbformat": 4,
  "nbformat_minor": 0,
  "metadata": {
    "colab": {
      "provenance": [],
      "authorship_tag": "ABX9TyMwzvepvXU2GyLlzkgf1Hnk",
      "include_colab_link": true
    },
    "kernelspec": {
      "name": "python3",
      "display_name": "Python 3"
    },
    "language_info": {
      "name": "python"
    }
  },
  "cells": [
    {
      "cell_type": "markdown",
      "metadata": {
        "id": "view-in-github",
        "colab_type": "text"
      },
      "source": [
        "<a href=\"https://colab.research.google.com/github/HattaAlvi/MyFirstWeb/blob/main/operator.ipynb\" target=\"_parent\"><img src=\"https://colab.research.google.com/assets/colab-badge.svg\" alt=\"Open In Colab\"/></a>"
      ]
    },
    {
      "cell_type": "code",
      "execution_count": null,
      "metadata": {
        "colab": {
          "base_uri": "https://localhost:8080/"
        },
        "id": "igT8tJCgjCZj",
        "outputId": "a489f75e-2be3-4082-cb7d-6f98c61f650f"
      },
      "outputs": [
        {
          "output_type": "stream",
          "name": "stdout",
          "text": [
            "Mike's balance after buying: 39000 rupiah\n"
          ]
        }
      ],
      "source": [
        "# Define the prices of the items\n",
        "noodles_price = 10000\n",
        "meat_price = 50000\n",
        "garlic_price = 11000\n",
        "\n",
        "# Calculate the total cost before discount\n",
        "total_cost_before_discount = noodles_price + meat_price + garlic_price\n",
        "\n",
        "# Calculate the discount\n",
        "discount = 10000\n",
        "\n",
        "# Apply the discount to the total cost\n",
        "total_cost_after_discount = total_cost_before_discount - discount\n",
        "\n",
        "# Define Mike's balance\n",
        "balance_in_wallet = 100000\n",
        "\n",
        "# Calculate Mike's balance after buying\n",
        "balance_after_buying = balance_in_wallet - total_cost_after_discount\n",
        "\n",
        "# Output the result\n",
        "print(\"Mike's balance after buying: {} rupiah\".format(balance_after_buying))\n"
      ]
    }
  ]
}