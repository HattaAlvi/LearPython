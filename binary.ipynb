{
  "nbformat": 4,
  "nbformat_minor": 0,
  "metadata": {
    "colab": {
      "provenance": [],
      "authorship_tag": "ABX9TyPrHJ/5PqXx9NXykfviWNnv",
      "include_colab_link": true
    },
    "kernelspec": {
      "name": "python3",
      "display_name": "Python 3"
    },
    "language_info": {
      "name": "python"
    }
  },
  "cells": [
    {
      "cell_type": "markdown",
      "metadata": {
        "id": "view-in-github",
        "colab_type": "text"
      },
      "source": [
        "<a href=\"https://colab.research.google.com/github/HattaAlvi/LearPython/blob/main/binary.ipynb\" target=\"_parent\"><img src=\"https://colab.research.google.com/assets/colab-badge.svg\" alt=\"Open In Colab\"/></a>"
      ]
    },
    {
      "cell_type": "code",
      "execution_count": 12,
      "metadata": {
        "id": "F1c-lFMPrRzE",
        "colab": {
          "base_uri": "https://localhost:8080/"
        },
        "outputId": "f656702c-417b-4133-f226-9996367b2ff8"
      },
      "outputs": [
        {
          "output_type": "stream",
          "name": "stdout",
          "text": [
            "1.) x & y & z = 0 (binary: 00000000)\n",
            "2.) x ^ y = 110 (binary: 1101110)\n"
          ]
        }
      ],
      "source": [
        "# Define the variables\n",
        "x = 100\n",
        "y = 10\n",
        "z = 68\n",
        "\n",
        "# Problem 1: x & y & z\n",
        "result_1 = x & y & z\n",
        "\n",
        "# Problem 2: x ^ y\n",
        "result_2 = x ^ y\n",
        "\n",
        "# Convert results to binary form\n",
        "result_1_binary = format(result_1, '08b')\n",
        "result_2_binary = format(result_2, '03b')\n",
        "# Output the results\n",
        "print(\"1.) x & y & z = {} (binary: {})\".format(result_1, result_1_binary))\n",
        "print(\"2.) x ^ y = {} (binary: {})\".format(result_2, result_2_binary))\n",
        "\n"
      ]
    }
  ]
}